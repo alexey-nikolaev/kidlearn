{
 "metadata": {
  "name": ""
 },
 "nbformat": 3,
 "nbformat_minor": 0,
 "worksheets": [
  {
   "cells": [
    {
     "cell_type": "code",
     "collapsed": false,
     "input": [
      "import sys\n",
      "import os\n",
      "sys.path.append(\"..\")\n",
      "sys.path.append(\"../kidlearn_lib/\")"
     ],
     "language": "python",
     "metadata": {},
     "outputs": [],
     "prompt_number": 1
    },
    {
     "cell_type": "markdown",
     "metadata": {},
     "source": [
      "Presentation\n",
      "============\n",
      "The Kidlearn library include a set of algorithms designed to guide a pedagogical sequence of activity, this algorithm are implemented in the ***seq_manager*** module of the library. To define the different possible exercises, we use **\"R-Table\"** which are describe in our articles. To test and use this algorithms, we defined student models, implemented in ***student*** module, which have some skills to learn through a didactic sequence managed by an algorithm. \n",
      "\n",
      "For the notebooks, the parameter files are located in the folder **notebooks/paramas_files/notebook1/**, and the using R-Table in **notebooks/RT/**.\n",
      "\n",
      "In this notebook, we will focus on the ***simulation*** module, wich permit to managed different level of simulation. "
     ]
    },
    {
     "cell_type": "code",
     "collapsed": false,
     "input": [
      "import kidlearn_lib as k_lib"
     ],
     "language": "python",
     "metadata": {},
     "outputs": [],
     "prompt_number": 10
    },
    {
     "cell_type": "markdown",
     "metadata": {},
     "source": [
      "Introducing the objects and \n",
      "===========================\n",
      "We will first introduce the different objects involved in ***simulation***. For this notebook we will only use the \"$Q$\" student model and the \"*test1*\" R-Table."
     ]
    },
    {
     "cell_type": "markdown",
     "metadata": {},
     "source": [
      "Working session\n",
      "---------------\n",
      "\n",
      "A working session is defined with a student and a sequence manager. It will permit to manage the activity sequence for the student **s** with the algorithm **A**.\n",
      "\n",
      "We create a student based on the $Q$ model."
     ]
    },
    {
     "cell_type": "code",
     "collapsed": false,
     "input": [
      "s = k_lib.config.student(params_file=\"qstud\",directory=\"params_files/notebook1\")"
     ],
     "language": "python",
     "metadata": {},
     "outputs": [],
     "prompt_number": 11
    },
    {
     "cell_type": "markdown",
     "metadata": {},
     "source": [
      "We create a sequence manager, here it's $RiARiT$."
     ]
    },
    {
     "cell_type": "code",
     "collapsed": false,
     "input": [
      "A = k_lib.config.seq_manager(params_file=\"RIARIT\",directory=\"params_files/notebook1\")"
     ],
     "language": "python",
     "metadata": {},
     "outputs": [],
     "prompt_number": 12
    },
    {
     "cell_type": "markdown",
     "metadata": {},
     "source": [
      "We crate a working session base on the student and the algorithm."
     ]
    },
    {
     "cell_type": "code",
     "collapsed": false,
     "input": [
      "workSession = k_lib.simulation.Working_session(student=s,seq_manager=A)"
     ],
     "language": "python",
     "metadata": {},
     "outputs": [],
     "prompt_number": 13
    },
    {
     "cell_type": "markdown",
     "metadata": {},
     "source": [
      "To run one step, you can use the \"*step_forward()*\" function. "
     ]
    },
    {
     "cell_type": "code",
     "collapsed": false,
     "input": [
      "workSession.step_forward()\n",
      "# def step_forward(self):\n",
      "    # act = self._seq_manager.sample() <- the algorithm choose the activity to do\n",
      "    # ex_skill_lvl = self._seq_manager.compute_act_lvl(act,\"main\",dict_form =1) <- evalution of the activity level \n",
      "    # self._current_ex = Exercise(act,ex_skill_lvl,self._KC) <- exercise to do\n",
      "    # self._student.answer(self._current_ex) <- student answer to the activity\n",
      "    # self.save_actual_step() <- save the activity\n",
      "    # self._seq_manager.update(act,self._current_ex._answer) <- update to choose the next activity"
     ],
     "language": "python",
     "metadata": {},
     "outputs": [],
     "prompt_number": 14
    },
    {
     "cell_type": "code",
     "collapsed": false,
     "input": [
      "workSession.actual_step() # what is the last exercise done"
     ],
     "language": "python",
     "metadata": {},
     "outputs": [
      {
       "metadata": {},
       "output_type": "pyout",
       "prompt_number": 15,
       "text": [
        "act : {u'N1': [0, 0, 0], 'ans': 0}, student skill: [S0 : 0.06, S1 : 0.1, S2 : 0]"
       ]
      }
     ],
     "prompt_number": 15
    },
    {
     "cell_type": "markdown",
     "metadata": {},
     "source": [
      "***\"act\"*** present the parametrisation of the activity. *\"N1\"* is the name of the Table, and the vector \"N1 : [0,0,0] \" represent the values taken by the 3 didactic parameters. \n",
      "\n",
      "***\"student skill\"*** present the level of the student ($ \\in [0;1]$) for each skill (here : *S0, S1, S2*).\n"
     ]
    },
    {
     "cell_type": "markdown",
     "metadata": {},
     "source": [
      "To run a sequence with $n$ activities we will use the *run($n$)* function. "
     ]
    },
    {
     "cell_type": "code",
     "collapsed": false,
     "input": [
      "workSession.run(100) # do 100 times step_forward()"
     ],
     "language": "python",
     "metadata": {},
     "outputs": [],
     "prompt_number": 16
    },
    {
     "cell_type": "code",
     "collapsed": false,
     "input": [
      "workSession.step[0:10] # show the first 10 step"
     ],
     "language": "python",
     "metadata": {},
     "outputs": [
      {
       "metadata": {},
       "output_type": "pyout",
       "prompt_number": 17,
       "text": [
        "[act : {u'N1': [0, 0, 0], 'ans': 0}, student skill: [S0 : 0.06, S1 : 0.1, S2 : 0],\n",
        " act : {u'N1': [0, 0, 0], 'ans': 0}, student skill: [S0 : 0.06, S1 : 0.1, S2 : 0],\n",
        " act : {u'N1': [0, 1, 1], 'ans': 1}, student skill: [S0 : 0.096, S1 : 0.1, S2 : 0],\n",
        " act : {u'N1': [0, 1, 1], 'ans': 1}, student skill: [S0 : 0.096, S1 : 0.1, S2 : 0],\n",
        " act : {u'N1': [0, 1, 1], 'ans': 1}, student skill: [S0 : 0.096, S1 : 0.1, S2 : 0],\n",
        " act : {u'N1': [0, 1, 1], 'ans': 1}, student skill: [S0 : 0.096, S1 : 0.1, S2 : 0],\n",
        " act : {u'N1': [0, 1, 1], 'ans': 1}, student skill: [S0 : 0.096, S1 : 0.1, S2 : 0],\n",
        " act : {u'N1': [0, 1, 0], 'ans': 1}, student skill: [S0 : 0.096, S1 : 0.1, S2 : 0],\n",
        " act : {u'N1': [0, 0, 1], 'ans': 1}, student skill: [S0 : 0.12, S1 : 0.1, S2 : 0],\n",
        " act : {u'N1': [0, 0, 0], 'ans': 1}, student skill: [S0 : 0.12, S1 : 0.1, S2 : 0]]"
       ]
      }
     ],
     "prompt_number": 17
    },
    {
     "cell_type": "markdown",
     "metadata": {},
     "source": [
      "Working group\n",
      "-------------\n",
      "\n",
      "A working group is a group of working session."
     ]
    },
    {
     "cell_type": "code",
     "collapsed": false,
     "input": [],
     "language": "python",
     "metadata": {},
     "outputs": []
    }
   ],
   "metadata": {}
  }
 ]
}