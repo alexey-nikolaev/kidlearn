{
 "metadata": {
  "name": ""
 },
 "nbformat": 3,
 "nbformat_minor": 0,
 "worksheets": [
  {
   "cells": [
    {
     "cell_type": "code",
     "collapsed": false,
     "input": [
      "import sys\n",
      "import os\n",
      "sys.path.append(\"..\")\n",
      "sys.path.append(\"../kidlearn_lib/\")"
     ],
     "language": "python",
     "metadata": {},
     "outputs": [],
     "prompt_number": 4
    },
    {
     "cell_type": "markdown",
     "metadata": {},
     "source": [
      "Presentation\n",
      "============\n",
      "The Kidlearn library include a set of algorithms designed to guide a pedagogical sequence of activity, this algorithm are implemented in the ***seq_manager*** module of the library. To define the different possible exercises, we use **\"R-Table\"** which are describe in our articles. To test and use this algorithms, we defined student models, implemented in ***student*** module, which have some skills to learn through a didactic sequence managed by an algorithm. \n",
      "\n",
      "For the notebooks, the parameter files are located in the folder **notebooks/paramas_files/notebook1/**, and the using R-Table in **notebooks/RT/**.\n",
      "\n",
      "In this notebook, we will focus on the ***simulation*** module, wich permit to managed different level of simulation. "
     ]
    },
    {
     "cell_type": "code",
     "collapsed": false,
     "input": [
      "import kidlearn_lib as k_lib"
     ],
     "language": "python",
     "metadata": {},
     "outputs": [],
     "prompt_number": 5
    },
    {
     "cell_type": "markdown",
     "metadata": {},
     "source": [
      "Introducing the objects and \n",
      "===========================\n",
      "We will first introduce the different objects involved in ***simulation***. For this notebook we will only use the \"$Q$\" student model and the \"*test1*\" R-Table."
     ]
    },
    {
     "cell_type": "markdown",
     "metadata": {},
     "source": [
      "Working session\n",
      "---------------\n",
      "\n",
      "A working session is defined with a student and a sequence manager. It will permit to manage the activity sequence for the student **s** with the algorithm **A**.\n",
      "\n",
      "We create a student based on the $Q$ model."
     ]
    },
    {
     "cell_type": "code",
     "collapsed": false,
     "input": [
      "s = k_lib.config.student(params_file=\"qstud\",directory=\"params_files/notebook1\")"
     ],
     "language": "python",
     "metadata": {},
     "outputs": [],
     "prompt_number": 6
    },
    {
     "cell_type": "markdown",
     "metadata": {},
     "source": [
      "We create a sequence manager, here it's $RiARiT$."
     ]
    },
    {
     "cell_type": "code",
     "collapsed": false,
     "input": [
      "A = k_lib.config.seq_manager(params_file=\"RIARIT\",directory=\"params_files/notebook1\")"
     ],
     "language": "python",
     "metadata": {},
     "outputs": [],
     "prompt_number": 7
    },
    {
     "cell_type": "markdown",
     "metadata": {},
     "source": [
      "We crate a working session base on the student and the algorithm."
     ]
    },
    {
     "cell_type": "code",
     "collapsed": false,
     "input": [
      "workSession = k_lib.simulation.Working_session(student=s,seq_manager=A)"
     ],
     "language": "python",
     "metadata": {},
     "outputs": [],
     "prompt_number": 8
    },
    {
     "cell_type": "markdown",
     "metadata": {},
     "source": [
      "To run one step, you can use the *step_forward* function. "
     ]
    },
    {
     "cell_type": "code",
     "collapsed": false,
     "input": [
      "workSession.step_forward()\n",
      "# act = self._seq_manager.sample() <- the algorithm choose the activity to do\n",
      "# ex_skill_lvl = self._seq_manager.compute_act_lvl(act,\"main\",dict_form =1) <- evalution of the activity level \n",
      "# self._current_ex = Exercise(act,ex_skill_lvl,self._KC) <- exercise to do\n",
      "# self._student.answer(self._current_ex) <- student answer to the e\n",
      "# self.save_actual_step() <- save the exercise\n",
      "# self._seq_manager.update(act,self._current_ex._answer) <- update to choose the next exercise"
     ],
     "language": "python",
     "metadata": {},
     "outputs": [],
     "prompt_number": 9
    },
    {
     "cell_type": "markdown",
     "metadata": {},
     "source": [
      "Now to run a sequence with $n$ activities we will use the *run* function. "
     ]
    },
    {
     "cell_type": "code",
     "collapsed": false,
     "input": [
      "workSession.run(100)"
     ],
     "language": "python",
     "metadata": {},
     "outputs": [
      {
       "ename": "NameError",
       "evalue": "name 'workSession' is not defined",
       "output_type": "pyerr",
       "traceback": [
        "\u001b[0;31m---------------------------------------------------------------------------\u001b[0m\n\u001b[0;31mNameError\u001b[0m                                 Traceback (most recent call last)",
        "\u001b[0;32m<ipython-input-2-b3b0452c7989>\u001b[0m in \u001b[0;36m<module>\u001b[0;34m()\u001b[0m\n\u001b[0;32m----> 1\u001b[0;31m \u001b[0mworkSession\u001b[0m\u001b[0;34m.\u001b[0m\u001b[0mrun\u001b[0m\u001b[0;34m(\u001b[0m\u001b[0;36m100\u001b[0m\u001b[0;34m)\u001b[0m\u001b[0;34m\u001b[0m\u001b[0m\n\u001b[0m",
        "\u001b[0;31mNameError\u001b[0m: name 'workSession' is not defined"
       ]
      }
     ],
     "prompt_number": 2
    },
    {
     "cell_type": "code",
     "collapsed": false,
     "input": [
      "workSession._step[0:10]"
     ],
     "language": "python",
     "metadata": {},
     "outputs": [
      {
       "ename": "NameError",
       "evalue": "name 'workSession' is not defined",
       "output_type": "pyerr",
       "traceback": [
        "\u001b[0;31m---------------------------------------------------------------------------\u001b[0m\n\u001b[0;31mNameError\u001b[0m                                 Traceback (most recent call last)",
        "\u001b[0;32m<ipython-input-3-fcec37eecb85>\u001b[0m in \u001b[0;36m<module>\u001b[0;34m()\u001b[0m\n\u001b[0;32m----> 1\u001b[0;31m \u001b[0mworkSession\u001b[0m\u001b[0;34m.\u001b[0m\u001b[0m_step\u001b[0m\u001b[0;34m[\u001b[0m\u001b[0;36m0\u001b[0m\u001b[0;34m:\u001b[0m\u001b[0;36m10\u001b[0m\u001b[0;34m]\u001b[0m\u001b[0;34m\u001b[0m\u001b[0m\n\u001b[0m",
        "\u001b[0;31mNameError\u001b[0m: name 'workSession' is not defined"
       ]
      }
     ],
     "prompt_number": 3
    },
    {
     "cell_type": "code",
     "collapsed": false,
     "input": [],
     "language": "python",
     "metadata": {},
     "outputs": [],
     "prompt_number": 3
    },
    {
     "cell_type": "code",
     "collapsed": false,
     "input": [],
     "language": "python",
     "metadata": {},
     "outputs": []
    }
   ],
   "metadata": {}
  }
 ]
}