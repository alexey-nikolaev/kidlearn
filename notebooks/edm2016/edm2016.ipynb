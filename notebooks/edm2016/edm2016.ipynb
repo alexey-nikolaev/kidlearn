{
 "cells": [
  {
   "cell_type": "markdown",
   "metadata": {},
   "source": [
    "# Edm 2016 experimentation\n",
    "Here is a notebook to reproduce the experimentation done in teh paper \"A Comparison of Automatic Teaching Strategies for Heterogeneous Student Populations\".\n",
    "To use it : \n",
    " - git clone -b edm2016 --single-branch https://github.com/flowersteam/kidlearn.git\n",
    " - enter the directory notebooks/edm2016.\n",
    " - open the Jupyter notebook\n",
    " \n",
    "Warning : be aware that experiments need a lot of RAM while running (> 2 GO), expecialy with a high number of learner. "
   ]
  },
  {
   "cell_type": "code",
   "execution_count": 1,
   "metadata": {
    "collapsed": false
   },
   "outputs": [],
   "source": [
    "import sys\n",
    "sys.path.append(\"../..\")\n",
    "sys.path.append(\"../../run_xp\")\n",
    "%matplotlib inline\n",
    "import kidlearn_lib as k_lib\n",
    "import plot_graphics as graph\n",
    "import run_xp"
   ]
  },
  {
   "cell_type": "markdown",
   "metadata": {},
   "source": [
    "## Single model results\n",
    "The first experiment will do a sanity check to evaluate each of the algorithm in standard conditions where the population of learners is the same where each algorithm is optimized. We expect POMDP to have the best results but it is not clear how far ZPDES will be from the optimal solution. For these experimentation, there is only one model used for the learner, and POMDP, ZPDES$^*$ and ZPDES$^H$ are configured for the same model."
   ]
  },
  {
   "cell_type": "code",
   "execution_count": null,
   "metadata": {
    "collapsed": false
   },
   "outputs": [],
   "source": [
    "#If you want to lauch the simulation :\n",
    "\n",
    "ref_learner = [\"0\"] # to change the model, put an other number between 0 and 4. \n",
    "ref_algo = [\"0\"] # to change the model used in algs, put an other number between 0 and 4.\n",
    "\n",
    "xp = run_xp.multi_kt_xp(nb_stud=600, #number of learner per model\n",
    "                        nb_step=100, #number of step\n",
    "                        disruption=0, #the population is not disrupted\n",
    "                        refs_opti=ref_algo,  # model to configure algorithms\n",
    "                        refs_stud=ref_learner) # models used to configure learner "
   ]
  },
  {
   "cell_type": "code",
   "execution_count": null,
   "metadata": {
    "collapsed": false
   },
   "outputs": [],
   "source": [
    "# Draw Kc average level\n",
    "run_xp.draw_xp_kc_curve(xp, ref_sub_group=ref_learner, subgroup_treat=True, use_std=True)"
   ]
  },
  {
   "cell_type": "code",
   "execution_count": 4,
   "metadata": {
    "collapsed": false,
    "scrolled": true
   },
   "outputs": [
    {
     "name": "stdout",
     "output_type": "stream",
     "text": [
      "{'Random/Zpdes*': [0.0, 2.4809527086871238e-179], 'POMDP/Random': [0.0, 8.02073371773308e-227], 'Random/ZpdesH': [2.8656204493202111e-239, 4.0903412266921633e-206], 'ZpdesH/Zpdes*': [4.050738855218119e-23, 0.06406315997119065], 'POMDP/ZpdesH': [3.0029931983193391e-24, 8.3897135803588847e-05], 'POMDP/Zpdes*': [1, 7.1357245487212323e-06]}\n"
     ]
    }
   ],
   "source": [
    "# calcul of p-values for step 50 and 100\n",
    "pvals = run_xp.calcul_pvals(xp, steps=[50,99], save_vals=True)\n",
    "print pvals"
   ]
  },
  {
   "cell_type": "markdown",
   "metadata": {},
   "source": [
    "## Multi model results\n",
    "We will now present the main results of this work with the comparison between POMDP, ZPDES$^*$ and ZPDES$^H$ when confronted with heterogeneous populations of learners. The protocol of the experiments is as follows. First we provide each algorithm the information about a specific population of students and then we test the capability of the algorithms to address a population of students with different knowledge graphs. As described before each algorithm is given information about a particular population of student, POMDP receives the graph and the transition probabilities, ZPDES$^*$ receives the graph and exploration parameters optimized for that same graph, ZPDES$^H$ receives the graph and standard parameters for the graph exploration. "
   ]
  },
  {
   "cell_type": "code",
   "execution_count": null,
   "metadata": {
    "collapsed": false
   },
   "outputs": [],
   "source": [
    "ref_learner = [\"0\",\"1\",\"2\",\"3\",\"4\"] #first setup\n",
    "#ref_learner = [\"0\",\"3\",\"4\"] #second setup\n",
    "#ref_learner = [\"2\",\"3\",\"4\"] #third setup \n",
    "#ref_learner = [\"0\",\"1\",\"2\"]#test\n",
    "\n",
    "ref_algo = [\"0\",\"1\",\"2\"] # first setup\n",
    "#ref_algo = [\"0\",\"3\",\"4\"] #second setup\n",
    "#ref_algo = [\"0\",\"1\"] #third setup\n",
    "#ref_algo = [\"3\",\"4\"] #test\n",
    "\n",
    "xp = run_xp.multi_kt_xp(nb_stud=100, #number of learner per model\n",
    "                        nb_step=200, #number of step\n",
    "                        disruption=1, #the population is disrupted\n",
    "                        refs_opti=ref_algo, # model to configure algorithms\n",
    "                        refs_stud=ref_learner) # models used to configure learner "
   ]
  },
  {
   "cell_type": "code",
   "execution_count": null,
   "metadata": {
    "collapsed": false,
    "scrolled": false
   },
   "outputs": [],
   "source": [
    "# Draw Total Kc average level \n",
    "run_xp.draw_xp_kc_curve(xp, use_std=True)\n",
    "# Draw Subgroups Kc average level\n",
    "run_xp.draw_xp_kc_curve(xp, ref_sub_group=ref_algo, subgroup_treat=True, use_std=True)"
   ]
  },
  {
   "cell_type": "code",
   "execution_count": null,
   "metadata": {
    "collapsed": false,
    "scrolled": true
   },
   "outputs": [],
   "source": [
    "reload(run_xp)\n",
    "# calcul of p-values for step 50 and 200\n",
    "pvals = run_xp.calcul_pvals(xp, steps=[50,199], save_vals=True)\n",
    "print pvals"
   ]
  },
  {
   "cell_type": "code",
   "execution_count": null,
   "metadata": {
    "collapsed": true
   },
   "outputs": [],
   "source": []
  }
 ],
 "metadata": {
  "kernelspec": {
   "display_name": "Python 2",
   "language": "python",
   "name": "python2"
  },
  "language_info": {
   "codemirror_mode": {
    "name": "ipython",
    "version": 2
   },
   "file_extension": ".py",
   "mimetype": "text/x-python",
   "name": "python",
   "nbconvert_exporter": "python",
   "pygments_lexer": "ipython2",
   "version": "2.7.6"
  }
 },
 "nbformat": 4,
 "nbformat_minor": 0
}
