{
 "cells": [
  {
   "cell_type": "markdown",
   "metadata": {},
   "source": [
    "# Edm 2016 experimentation\n",
    "Here is a notebook to reproduce the experimentation done in teh paper \"A Comparison of Automatic Teaching Strategies for Heterogeneous Student Populations\".\n",
    "Warning : be ware that experiments need a lot of RAM while running (> 2 GO), expecialy with a high number of learner. "
   ]
  },
  {
   "cell_type": "code",
   "execution_count": 6,
   "metadata": {
    "collapsed": false
   },
   "outputs": [],
   "source": [
    "import sys\n",
    "sys.path.append(\"../..\")\n",
    "sys.path.append(\"../../run_xp\")\n",
    "%matplotlib inline\n",
    "import kidlearn_lib as k_lib\n",
    "import plot_graphics as graph\n",
    "import run_xp"
   ]
  },
  {
   "cell_type": "markdown",
   "metadata": {},
   "source": [
    "## Single model results\n",
    "The first experiment will do a sanity check to evaluate each of the algorithm in standard conditions where the population of learners is the same where each algorithm is optimized. We expect POMDP to have the best results but it is not clear how far ZPDES will be from the optimal solution. For these experimentation, there is only one model used for the learner, and POMDP, ZPDES$^*$ and ZPDES$^H$ are configured for the same model."
   ]
  },
  {
   "cell_type": "code",
   "execution_count": 7,
   "metadata": {
    "collapsed": false
   },
   "outputs": [
    {
     "name": "stdout",
     "output_type": "stream",
     "text": [
      "POMDP\n",
      "ZpdesH\n",
      "Zpdes*\n"
     ]
    }
   ],
   "source": [
    "ref_learner = [\"0\"] # to change the model, put an other number between 0 and 4. \n",
    "\n",
    "xp = run_xp.multi_kt_xp(nb_stud=500, #number of learner per model\n",
    "                        nb_step=100, #number of step\n",
    "                        disruption=0, #the population is not disrupted\n",
    "                        refs_opti=ref_learner,  # model to configure algorithms\n",
    "                        refs_stud=ref_learner) # models used to configure learner \n"
   ]
  },
  {
   "cell_type": "code",
   "execution_count": 2,
   "metadata": {
    "collapsed": false
   },
   "outputs": [
    {
     "ename": "NameError",
     "evalue": "name 'run_xp' is not defined",
     "output_type": "error",
     "traceback": [
      "\u001b[1;31m---------------------------------------------------------------------------\u001b[0m",
      "\u001b[1;31mNameError\u001b[0m                                 Traceback (most recent call last)",
      "\u001b[1;32m<ipython-input-2-444e30c32d97>\u001b[0m in \u001b[0;36m<module>\u001b[1;34m()\u001b[0m\n\u001b[1;32m----> 1\u001b[1;33m \u001b[0mrun_xp\u001b[0m\u001b[1;33m.\u001b[0m\u001b[0mdraw_xp_kc_curve\u001b[0m\u001b[1;33m(\u001b[0m\u001b[0mxp\u001b[0m\u001b[1;33m,\u001b[0m \u001b[0mref_sub_group\u001b[0m\u001b[1;33m=\u001b[0m\u001b[0mref_learner\u001b[0m\u001b[1;33m,\u001b[0m \u001b[0msubgroup_treat\u001b[0m\u001b[1;33m=\u001b[0m\u001b[0mTrue\u001b[0m\u001b[1;33m)\u001b[0m\u001b[1;33m\u001b[0m\u001b[0m\n\u001b[0m",
      "\u001b[1;31mNameError\u001b[0m: name 'run_xp' is not defined"
     ]
    }
   ],
   "source": [
    "# Draw Kc average level\n",
    "run_xp.draw_xp_kc_curve(xp, ref_sub_group=ref_learner, subgroup_treat=True)"
   ]
  },
  {
   "cell_type": "code",
   "execution_count": 1,
   "metadata": {
    "collapsed": false
   },
   "outputs": [
    {
     "ename": "NameError",
     "evalue": "name 'run_xp' is not defined",
     "output_type": "error",
     "traceback": [
      "\u001b[1;31m---------------------------------------------------------------------------\u001b[0m",
      "\u001b[1;31mNameError\u001b[0m                                 Traceback (most recent call last)",
      "\u001b[1;32m<ipython-input-1-5b92d910ce58>\u001b[0m in \u001b[0;36m<module>\u001b[1;34m()\u001b[0m\n\u001b[1;32m----> 1\u001b[1;33m \u001b[0mpvals\u001b[0m \u001b[1;33m=\u001b[0m \u001b[0mrun_xp\u001b[0m\u001b[1;33m.\u001b[0m\u001b[0mcalcul_pvals\u001b[0m\u001b[1;33m(\u001b[0m\u001b[0mxp\u001b[0m\u001b[1;33m,\u001b[0m \u001b[0msteps\u001b[0m\u001b[1;33m=\u001b[0m\u001b[1;33m[\u001b[0m\u001b[1;36m50\u001b[0m\u001b[1;33m,\u001b[0m\u001b[1;36m99\u001b[0m\u001b[1;33m]\u001b[0m\u001b[1;33m)\u001b[0m \u001b[1;31m# calcul p-values for step 50 and 100\u001b[0m\u001b[1;33m\u001b[0m\u001b[0m\n\u001b[0m\u001b[0;32m      2\u001b[0m \u001b[1;32mprint\u001b[0m \u001b[0mpvals\u001b[0m\u001b[1;33m\u001b[0m\u001b[0m\n",
      "\u001b[1;31mNameError\u001b[0m: name 'run_xp' is not defined"
     ]
    }
   ],
   "source": [
    "# calcul of p-values for step 50 and 100\n",
    "pvals = run_xp.calcul_pvals(xp, steps=[50,99])\n",
    "print pvals"
   ]
  },
  {
   "cell_type": "markdown",
   "metadata": {},
   "source": [
    "## Multi model results\n",
    "We will now present the main results of this work with the comparison between POMDP, ZPDES$^*$ and ZPDES$^H$ when confronted with heterogeneous populations of learners. The protocol of the experiments is as follows. First we provide each algorithm the information about a specific population of students and then we test the capability of the algorithms to address a population of students with different knowledge graphs. As described before each algorithm is given information about a particular population of student, POMDP receives the graph and the transition probabilities, ZPDES$^*$ receives the graph and exploration parameters optimized for that same graph, ZPDES$^H$ receives the graph and standard parameters for the graph exploration. "
   ]
  },
  {
   "cell_type": "code",
   "execution_count": 4,
   "metadata": {
    "collapsed": false
   },
   "outputs": [
    {
     "name": "stdout",
     "output_type": "stream",
     "text": [
      "POMDP\n",
      "ZpdesH\n",
      "Zpdes*\n"
     ]
    }
   ],
   "source": [
    "ref_learner = [\"0\",\"1\",\"2\"]\n",
    "#ref_learner = [\"0\",\"3\",\"4\"] #second population \n",
    "ref_algo = [\"0\",\"1\",\"2\"] # [0,3,4]\n",
    "#ref_algo = [\"0\",\"3\",\"4\"] #second algo \n",
    "xp = run_xp.multi_kt_xp(nb_stud=200, #number of learner per model\n",
    "                        nb_step=200, #number of step\n",
    "                        disruption=1, #the population is disrupted\n",
    "                        refs_opti=ref_algo, # model to configure algorithms\n",
    "                        refs_stud=ref_learner) # models used to configure learner "
   ]
  },
  {
   "cell_type": "code",
   "execution_count": 5,
   "metadata": {
    "collapsed": false
   },
   "outputs": [
    {
     "ename": "NameError",
     "evalue": "name 'run_xp' is not defined",
     "output_type": "error",
     "traceback": [
      "\u001b[1;31m---------------------------------------------------------------------------\u001b[0m",
      "\u001b[1;31mNameError\u001b[0m                                 Traceback (most recent call last)",
      "\u001b[1;32m<ipython-input-5-f913527de787>\u001b[0m in \u001b[0;36m<module>\u001b[1;34m()\u001b[0m\n\u001b[0;32m      1\u001b[0m \u001b[1;31m# Draw Total Kc average level\u001b[0m\u001b[1;33m\u001b[0m\u001b[1;33m\u001b[0m\u001b[0m\n\u001b[1;32m----> 2\u001b[1;33m \u001b[0mrun_xp\u001b[0m\u001b[1;33m.\u001b[0m\u001b[0mdraw_xp_kc_curve\u001b[0m\u001b[1;33m(\u001b[0m\u001b[0mxp\u001b[0m\u001b[1;33m,\u001b[0m \u001b[0mshowPlot\u001b[0m\u001b[1;33m=\u001b[0m\u001b[0mTrue\u001b[0m\u001b[1;33m)\u001b[0m\u001b[1;33m\u001b[0m\u001b[0m\n\u001b[0m\u001b[0;32m      3\u001b[0m \u001b[1;31m# Draw Subgroups Kc average level\u001b[0m\u001b[1;33m\u001b[0m\u001b[1;33m\u001b[0m\u001b[0m\n\u001b[0;32m      4\u001b[0m \u001b[0mrun_xp\u001b[0m\u001b[1;33m.\u001b[0m\u001b[0mdraw_xp_kc_curve\u001b[0m\u001b[1;33m(\u001b[0m\u001b[0mxp\u001b[0m\u001b[1;33m,\u001b[0m \u001b[0mref_sub_group\u001b[0m\u001b[1;33m=\u001b[0m\u001b[0mref_learner\u001b[0m\u001b[1;33m,\u001b[0m \u001b[0msubgroup_treat\u001b[0m\u001b[1;33m=\u001b[0m\u001b[0mTrue\u001b[0m\u001b[1;33m)\u001b[0m\u001b[1;33m\u001b[0m\u001b[0m\n",
      "\u001b[1;31mNameError\u001b[0m: name 'run_xp' is not defined"
     ]
    }
   ],
   "source": [
    "# Draw Total Kc average level \n",
    "run_xp.draw_xp_kc_curve(xp, showPlot=True)\n",
    "# Draw Subgroups Kc average level\n",
    "run_xp.draw_xp_kc_curve(xp, ref_sub_group=ref_learner, subgroup_treat=True)"
   ]
  },
  {
   "cell_type": "code",
   "execution_count": 4,
   "metadata": {
    "collapsed": false
   },
   "outputs": [
    {
     "ename": "NameError",
     "evalue": "name 'run_xp' is not defined",
     "output_type": "error",
     "traceback": [
      "\u001b[1;31m---------------------------------------------------------------------------\u001b[0m",
      "\u001b[1;31mNameError\u001b[0m                                 Traceback (most recent call last)",
      "\u001b[1;32m<ipython-input-4-3f4a66e44fb8>\u001b[0m in \u001b[0;36m<module>\u001b[1;34m()\u001b[0m\n\u001b[0;32m      1\u001b[0m \u001b[1;31m# calcul of p-values for step 50 and 200\u001b[0m\u001b[1;33m\u001b[0m\u001b[1;33m\u001b[0m\u001b[0m\n\u001b[1;32m----> 2\u001b[1;33m \u001b[0mpvals\u001b[0m \u001b[1;33m=\u001b[0m \u001b[0mrun_xp\u001b[0m\u001b[1;33m.\u001b[0m\u001b[0mcalcul_pvals\u001b[0m\u001b[1;33m(\u001b[0m\u001b[0mxp\u001b[0m\u001b[1;33m,\u001b[0m \u001b[0msteps\u001b[0m\u001b[1;33m=\u001b[0m\u001b[1;33m[\u001b[0m\u001b[1;36m50\u001b[0m\u001b[1;33m,\u001b[0m\u001b[1;36m199\u001b[0m\u001b[1;33m]\u001b[0m\u001b[1;33m)\u001b[0m\u001b[1;33m\u001b[0m\u001b[0m\n\u001b[0m\u001b[0;32m      3\u001b[0m \u001b[1;32mprint\u001b[0m \u001b[0mpvals\u001b[0m\u001b[1;33m\u001b[0m\u001b[0m\n",
      "\u001b[1;31mNameError\u001b[0m: name 'run_xp' is not defined"
     ]
    }
   ],
   "source": [
    "# calcul of p-values for step 50 and 200\n",
    "pvals = run_xp.calcul_pvals(xp, steps=[50,199])\n",
    "print pvals"
   ]
  },
  {
   "cell_type": "code",
   "execution_count": null,
   "metadata": {
    "collapsed": true
   },
   "outputs": [],
   "source": []
  }
 ],
 "metadata": {
  "kernelspec": {
   "display_name": "Python 2",
   "language": "python",
   "name": "python2"
  },
  "language_info": {
   "codemirror_mode": {
    "name": "ipython",
    "version": 2
   },
   "file_extension": ".py",
   "mimetype": "text/x-python",
   "name": "python",
   "nbconvert_exporter": "python",
   "pygments_lexer": "ipython2",
   "version": "2.7.6"
  }
 },
 "nbformat": 4,
 "nbformat_minor": 0
}
