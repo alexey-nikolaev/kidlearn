{
 "cells": [
  {
   "cell_type": "markdown",
   "metadata": {},
   "source": [
    "#Sequence manager explanation"
   ]
  },
  {
   "cell_type": "code",
   "execution_count": 1,
   "metadata": {
    "collapsed": false
   },
   "outputs": [],
   "source": [
    "import sys\n",
    "import os\n",
    "sys.path.append(\"../..\")\n",
    "sys.path.append(\"../../kidlearn_lib/\")"
   ]
  },
  {
   "cell_type": "markdown",
   "metadata": {},
   "source": [
    "#Presentation\n",
    "\n",
    "As presented in KidlearnStarter notebook, the Kidlearn library includes a set of algorithms that we develop to guide pedagogical activities. We introduce two different algorithms ZPDES that uses a simple graph of knowledge and RiARiT that includes a more complex student model. The details of the algorithms and the user studies are presented in the following paper: B. Clement, D. Roy, P.-Y. Oudeyer, M. Lopes, Multi-Armed Bandits for Intelligent Tutoring Systems, Journal of Educational Data Mining (JEDM), 2015 [(arXiv:1310.3174 [cs.AI])](http://arxiv.org/abs/1310.3174).\n",
    "\n",
    "These algorithms are implemented in the ***seq_manager*** module of the library, with some others sequence managers used to evaluate our algorithms. In this notebook, we will describe how to define one part of the files needed to describe an activity. The other files to describe the sequence managers are the parameters files described in [this notebook](../Parameters_files/Parameters_files.ipynb)."
   ]
  },
  {
   "cell_type": "code",
   "execution_count": 2,
   "metadata": {
    "collapsed": false
   },
   "outputs": [],
   "source": [
    "import kidlearn_lib as k_lib"
   ]
  },
  {
   "cell_type": "markdown",
   "metadata": {},
   "source": [
    "# Lexical details\n",
    "\n",
    "Vocabulary is important to us to describe our problems and objects that we will use, so before beginning our explanation, here is an explanation of the vocabulary that will be used in this notebook.\n",
    "\n",
    "We will speak about **didactic parameters** (or **parameter**). These parameters are used to define an **activity**. For example, the difficulty level, the type of exercise, the contents of an exercise or the presentation of this content. \n",
    "\n",
    "These parameters can take different **parameter's values** (or **values**), for example the difficulty level can have a scale and you will choose level 1 or 2 or higher depending of the level of the learner. \n",
    "\n",
    "So to instantiate an **exercise**, one value will be chosen for each parameters needed in the current activity. An activity is a set of all possible exercises which can be defined with a set of parameters.\n",
    "\n",
    "The parameters can be regroup in **group of parameter**. And these groups can be **hierarchically** organised. This mean the use of some paramameters will depend of other parameters. For example, if one parameter dertermine the type of exercise, some parameters will be used and others not, depending of the type of exercise chosen.   "
   ]
  },
  {
   "cell_type": "markdown",
   "metadata": {
    "collapsed": true
   },
   "source": [
    "#The sequence manager objects\n",
    "\n",
    "There are 4 different sequence managers which are defined for now : \n",
    "- RiARiT : an algorithm based on student skill estimation\n",
    "- ZPDES : an algorithm based on the success of the student\n",
    "- Sequence : a predefined sequence of activities (defined by an expert)\n",
    "- Random: a random sequence of all activities. "
   ]
  },
  {
   "cell_type": "markdown",
   "metadata": {},
   "source": [
    "## RiARiT : The Right Activity at the Right Time\n",
    "\n",
    "RiARiT use tables to define the relation between skills and activities. Two ways exist to define the tables : \n",
    "- with a text-file, there is an example in **RT/N2.txt**.\n",
    "- in json, there is an example in **RT/N2.json**.\n",
    "\n",
    "### Text file \n",
    "\n",
    "N2.txt example : \n",
    "\n",
    "**Competences : S0, S1, S2**  <-  here we define the skill used in the activities \n",
    " (S0 could be addition skill for example)\n",
    "\n",
    "**Parameters : Act1, Act2, Act3** <- here we define the didactics parameters used \n",
    " (Act1 could be difficulty level)\n",
    "\n",
    "**Nb_stay : 2, 1, 1 ** <- here we define the number of activities which have to be done for each didactic parameter, for act 1 there will be 2 activities with the same parameter value chosen, and for the other the parameter value will be chosen at each step\n",
    "\n",
    "**1 | 0 | V1 | 0.2   0.1   0  | 0   0   0  | 0   0   1 **<-- example : first line of the table \n",
    "\n",
    " The first value represents the number of the didactic parameter: 1 (the first parameter)\n",
    " The second value : 0 (1 else) say that this value is not used (here) to call another group of parameters, if the value is 1 that means another group of parameters is used to define the exercises.  \n",
    " The second value : V1 is a named gave to the parameter's value (number 1 here). To load another parameter group using a value, the value must have the same name than the group of the parameter file.  \n",
    "\n",
    " The next 3 numbers (0.2, 0.1, 0) represent the minimum required competence level, for each KC, to be able to solve that exercise\n",
    "\n",
    " The next 3 numbers (0, 0, 0) represent the activation threshold for this parameter's value depending on the learner skill level. Here, all values are null, so this parameter's value is activated from the beginning. \n",
    "\n",
    " The next 3 numbers (0.2, 0.1, 0) represent the deactivation threshold for this parameter's value depending on the learner skill level. For this example, there is one value equal to 1, so this parameter's value will always be activated until the student has totally mastered the third skill. "
   ]
  },
  {
   "cell_type": "markdown",
   "metadata": {
    "collapsed": false
   },
   "source": [
    "### JSON File \n",
    "\n",
    "N2.json example : \n",
    "\n"
   ]
  },
  {
   "cell_type": "code",
   "execution_count": 1,
   "metadata": {
    "collapsed": false
   },
   "outputs": [],
   "source": [
    "N2 = {\n",
    "    \"competencies\": [\"S0\",\"S1\",\"S2\"], # Definition of the competencies\n",
    "    \"parameters\": [\"Act1\",\"Act2\",\"Act3\"], # Definition of the didactic parameters\n",
    "    \"nb_stay\": [2,  1,  1], # Definition of the number of staying step\n",
    "    \"table\": {\n",
    "        \"Act1\": {  # For the first parameters\n",
    "            \"V1\": {  # First value's name\n",
    "                \"hierarchical\" : 0, # Is the value use others parameters \n",
    "                \"impact\": [0.2,  0.1,0], # the minimum required competence level\n",
    "                \"requir\": [0,    0,  0], # required level \n",
    "                \"deacti\": [1,    1,  1]  # deactivation threshold\n",
    "            }\n",
    "            # suite à voir dans le fichier dans le fichier \n",
    "        }\n",
    "    }\n",
    "}"
   ]
  },
  {
   "cell_type": "code",
   "execution_count": 2,
   "metadata": {
    "collapsed": false
   },
   "outputs": [
    {
     "ename": "NameError",
     "evalue": "name 'k_lib' is not defined",
     "output_type": "error",
     "traceback": [
      "\u001b[1;31m---------------------------------------------------------------------------\u001b[0m",
      "\u001b[1;31mNameError\u001b[0m                                 Traceback (most recent call last)",
      "\u001b[1;32m<ipython-input-2-a032672c8c12>\u001b[0m in \u001b[0;36m<module>\u001b[1;34m()\u001b[0m\n\u001b[1;32m----> 1\u001b[1;33m \u001b[0mS\u001b[0m \u001b[1;33m=\u001b[0m \u001b[0mk_lib\u001b[0m\u001b[1;33m.\u001b[0m\u001b[0mconfig\u001b[0m\u001b[1;33m.\u001b[0m\u001b[0mseq_manager\u001b[0m\u001b[1;33m(\u001b[0m\u001b[0mparams_file\u001b[0m\u001b[1;33m=\u001b[0m\u001b[1;34m\"RIARIT\"\u001b[0m\u001b[1;33m,\u001b[0m\u001b[0mdirectory\u001b[0m\u001b[1;33m=\u001b[0m\u001b[1;34m\"params_files\"\u001b[0m\u001b[1;33m)\u001b[0m\u001b[1;33m\u001b[0m\u001b[0m\n\u001b[0m",
      "\u001b[1;31mNameError\u001b[0m: name 'k_lib' is not defined"
     ]
    }
   ],
   "source": [
    "S = k_lib.config.seq_manager(params_file=\"RIARIT\",directory=\"params_files\")"
   ]
  },
  {
   "cell_type": "markdown",
   "metadata": {},
   "source": [
    "##ZPDES : Zone of Proximal Development and Empirical Success\n",
    "\n",
    "For now, the ZPDES algorithm is declare the same way than RiARiT, with the same Table. We are working on a formalism to describe the activity for ZPDES. But if you cant to use ZPDES without making skill analysis, you can just make the tables that describe the graph and use only one competences without caring about the number used in the table. "
   ]
  },
  {
   "cell_type": "markdown",
   "metadata": {},
   "source": [
    "## Sequence : predefined by an expert\n",
    "\n",
    "The predefined sequence can be define in a json file. The is an example in **sequence_def/example_seq.json**. The predefined sequence works with group or exercises. When a learner is working with a sequence, if "
   ]
  },
  {
   "cell_type": "code",
   "execution_count": 4,
   "metadata": {
    "collapsed": false
   },
   "outputs": [],
   "source": [
    "seq = {\n",
    "    \"activity\": {\n",
    "\n",
    "        \"group0\": [\n",
    "            {\"N2\" : [0,0,0]},\n",
    "            {\"N2\" : [0,1,0]},\n",
    "            {\"N2\" : [0,0,1]}],\n",
    "            \n",
    "        \"group1\" : [\n",
    "            {\"N2\" : [1,0,0]},\n",
    "            {\"N2\" : [1,1,0]},\n",
    "            {\"N2\" : [1,0,1]},\n",
    "            {\"N2\" : [1,1,1]}],\n",
    "\n",
    "        \"group2\" : [\n",
    "            {\"N2\" : [2,0,0]},\n",
    "            {\"N2\" : [2,1,0]},\n",
    "            {\"N2\" : [2,0,1]},\n",
    "            {\"N2\" : [2,1,1]}]\n",
    "    }\n",
    "}"
   ]
  },
  {
   "cell_type": "markdown",
   "metadata": {},
   "source": [
    "## Random"
   ]
  },
  {
   "cell_type": "code",
   "execution_count": null,
   "metadata": {
    "collapsed": true
   },
   "outputs": [],
   "source": []
  }
 ],
 "metadata": {
  "kernelspec": {
   "display_name": "Python 2",
   "language": "python",
   "name": "python2"
  },
  "language_info": {
   "codemirror_mode": {
    "name": "ipython",
    "version": 2
   },
   "file_extension": ".py",
   "mimetype": "text/x-python",
   "name": "python",
   "nbconvert_exporter": "python",
   "pygments_lexer": "ipython2",
   "version": "2.7.6"
  }
 },
 "nbformat": 4,
 "nbformat_minor": 0
}
