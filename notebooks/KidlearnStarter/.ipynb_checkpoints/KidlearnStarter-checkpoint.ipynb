{
 "cells": [
  {
   "cell_type": "code",
   "execution_count": 15,
   "metadata": {
    "collapsed": false
   },
   "outputs": [],
   "source": [
    "import sys\n",
    "import os\n",
    "sys.path.append(\"../..\")\n",
    "sys.path.append(\"../../kidlearn_lib/\")"
   ]
  },
  {
   "cell_type": "markdown",
   "metadata": {},
   "source": [
    "#Presentation\n",
    "\n",
    "The Kidlearn library includes a set of algorithms designed to guide a pedagogical sequence of activity, this algorithm are implemented in the ***seq_manager*** module of the library. To define the different possible exercises, we use **\"R-Table\"** which are describe in our articles. To test and use this algorithms, we defined student models, implemented in ***student*** module, which have some skills to learn through a didactic sequence managed by an algorithm. \n",
    "\n",
    "For the notebooks, the parameter files are located in the folder **notebooks/paramas_files/notebook1/**, and the using R-Table in **notebooks/RT/**.\n",
    "\n",
    "In this notebook, we will focus on the ***experimentation*** module, wich permit to managed different level of simulation. "
   ]
  },
  {
   "cell_type": "code",
   "execution_count": 16,
   "metadata": {
    "collapsed": false
   },
   "outputs": [],
   "source": [
    "import kidlearn_lib as k_lib"
   ]
  },
  {
   "cell_type": "markdown",
   "metadata": {},
   "source": [
    "#Introducing the objects\n",
    "\n",
    "We will first introduce the different objects involved in ***experimentation*** module. For this notebook we will only use the \"$Q$\" student model and the \"*test1*\" R-Table."
   ]
  },
  {
   "cell_type": "markdown",
   "metadata": {},
   "source": [
    "##Working session\n",
    "\n",
    "A *Working session* is defined with a student and a sequence manager. It will permit to manage the activity sequence for the student **s** with the algorithm **A**.\n",
    "\n",
    "#### Use of an example of configation\n",
    "\n",
    "We create a student based on the $Q$ model."
   ]
  },
  {
   "cell_type": "code",
   "execution_count": 17,
   "metadata": {
    "collapsed": false
   },
   "outputs": [],
   "source": [
    "s = k_lib.config.student(params_file=\"qstud\",directory=\"params_files\")"
   ]
  },
  {
   "cell_type": "markdown",
   "metadata": {},
   "source": [
    "We create a sequence manager, here it's ***RiARiT***."
   ]
  },
  {
   "cell_type": "code",
   "execution_count": 18,
   "metadata": {
    "collapsed": false
   },
   "outputs": [],
   "source": [
    "A = k_lib.config.seq_manager(params_file=\"RIARIT\",directory=\"params_files\")"
   ]
  },
  {
   "cell_type": "markdown",
   "metadata": {},
   "source": [
    "We crate a working session base on the student and the algorithm."
   ]
  },
  {
   "cell_type": "code",
   "execution_count": 19,
   "metadata": {
    "collapsed": false
   },
   "outputs": [],
   "source": [
    "workSession = k_lib.experimentation.Working_session(student=s,seq_manager=A)\n",
    "# same thing if we directly load worksession.json file\n",
    "# workSession2 = k_lib.experimentation.Working_session(params_file=\"worksession\",directory=\"params_files\")"
   ]
  },
  {
   "cell_type": "markdown",
   "metadata": {},
   "source": [
    "To run one step, you can use the \"*step_forward()*\" function. "
   ]
  },
  {
   "cell_type": "code",
   "execution_count": 20,
   "metadata": {
    "collapsed": false
   },
   "outputs": [],
   "source": [
    "workSession.step_forward()\n",
    "# def step_forward(self):\n",
    "    # act = self._seq_manager.sample() <- the algorithm choose the activity to do\n",
    "    # ex_skill_lvl = self._seq_manager.compute_act_lvl(act,\"main\",dict_form =1) <- evalution of the activity level \n",
    "    # self._current_ex = Exercise(act,ex_skill_lvl,self._KC) <- exercise to do\n",
    "    # self._student.answer(self._current_ex) <- student answer to the activity\n",
    "    # self.save_actual_step() <- save the activity\n",
    "    # self._seq_manager.update(act,self._current_ex._answer) <- update to choose the next activity"
   ]
  },
  {
   "cell_type": "code",
   "execution_count": 21,
   "metadata": {
    "collapsed": false
   },
   "outputs": [
    {
     "data": {
      "text/plain": [
       "act : {u'N1': [0, 1, 0], 'ans': 1}, student skill: [S0 : 0.05, S1 : 0.1, S2 : 0]"
      ]
     },
     "execution_count": 21,
     "metadata": {},
     "output_type": "execute_result"
    }
   ],
   "source": [
    "workSession.actual_step() # what is the last exercise done"
   ]
  },
  {
   "cell_type": "markdown",
   "metadata": {},
   "source": [
    "***\"act\"*** present the parametrisation of the activity. *\"N1\"* is the name of the Table, and the vector \"N1 : [0,0,0] \" represent the values taken by the 3 didactic parameters. \n",
    "\n",
    "***\"student skill\"*** present the level of the student ($ \\in [0;1]$) for each skill (here : *S0, S1, S2*).\n"
   ]
  },
  {
   "cell_type": "markdown",
   "metadata": {},
   "source": [
    "To run a sequence with $n$ activities we will use the *run($n$)* function. "
   ]
  },
  {
   "cell_type": "code",
   "execution_count": 22,
   "metadata": {
    "collapsed": false
   },
   "outputs": [],
   "source": [
    "workSession.run(100) # do 100 times step_forward()"
   ]
  },
  {
   "cell_type": "code",
   "execution_count": 23,
   "metadata": {
    "collapsed": false
   },
   "outputs": [
    {
     "data": {
      "text/plain": [
       "[act : {u'N1': [0, 1, 0], 'ans': 1}, student skill: [S0 : 0.05, S1 : 0.1, S2 : 0],\n",
       " act : {u'N1': [0, 0, 1], 'ans': 0}, student skill: [S0 : 0.06, S1 : 0.1, S2 : 0],\n",
       " act : {u'N1': [0, 1, 0], 'ans': 1}, student skill: [S0 : 0.06, S1 : 0.1, S2 : 0],\n",
       " act : {u'N1': [0, 0, 0], 'ans': 1}, student skill: [S0 : 0.06, S1 : 0.1, S2 : 0],\n",
       " act : {u'N1': [0, 1, 1], 'ans': 1}, student skill: [S0 : 0.06, S1 : 0.1, S2 : 0],\n",
       " act : {u'N1': [1, 1, 1], 'ans': 1}, student skill: [S0 : 0.06, S1 : 0.1, S2 : 0],\n",
       " act : {u'N1': [1, 0, 1], 'ans': 0}, student skill: [S0 : 0.06, S1 : 0.12, S2 : 0],\n",
       " act : {u'N1': [0, 1, 1], 'ans': 1}, student skill: [S0 : 0.16, S1 : 0.12, S2 : 0],\n",
       " act : {u'N1': [2, 1, 0], 'ans': 0}, student skill: [S0 : 0.16, S1 : 0.12, S2 : 0],\n",
       " act : {u'N1': [2, 1, 0], 'ans': 1}, student skill: [S0 : 0.16, S1 : 0.12, S2 : 0]]"
      ]
     },
     "execution_count": 23,
     "metadata": {},
     "output_type": "execute_result"
    }
   ],
   "source": [
    "workSession.step[0:10] # show the first 10 step"
   ]
  },
  {
   "cell_type": "markdown",
   "metadata": {},
   "source": [
    "##### Use of  and 3 sequences managers (RiARiT, ZPDES, Random)"
   ]
  },
  {
   "cell_type": "code",
   "execution_count": 138,
   "metadata": {
    "collapsed": false
   },
   "outputs": [],
   "source": [
    "wsRiarit = k_lib.experimentation.Working_session(params_file=\"ws_expe_RiARiT\")\n",
    "wsZpdes = k_lib.experimentation.Working_session(params_file=\"ws_expe_ZPDES\")\n",
    "wsRandom = k_lib.experimentation.Working_session(params_file=\"ws_expe_Random\")"
   ]
  },
  {
   "cell_type": "code",
   "execution_count": 139,
   "metadata": {
    "collapsed": false
   },
   "outputs": [],
   "source": [
    "wsRiarit.run(100)\n",
    "wsZpdes.run(100)\n",
    "wsRandom.run(100)"
   ]
  },
  {
   "cell_type": "code",
   "execution_count": 140,
   "metadata": {
    "collapsed": false
   },
   "outputs": [
    {
     "name": "stdout",
     "output_type": "stream",
     "text": [
      "Skill level after 100 steps :\n",
      "Riarit [0.8, 0.7, 0.3, 0.7, 0.2, 0.2, 0.147] \n",
      "ZPDES : [0.7200000000000001, 0.7, 0.4, 0.24, 0.2, 0.2, 0.21]\n",
      "Random : [0.3, 0.7, 0.1, 0.1, 0.2, 0, 0]\n"
     ]
    }
   ],
   "source": [
    "print \"Skill level after 100 steps :\"\n",
    "print \"Riarit %s \" % [wsRiarit.step[-1].student[\"knowledges\"][i].level for i in range(len(wsRiarit.KC))]\n",
    "print \"ZPDES : %s\" % [wsZpdes.step[-1].student[\"knowledges\"][i].level for i in range(len(wsZpdes.KC))]\n",
    "print \"Random : %s\"  % [wsRandom.step[-1].student[\"knowledges\"][i].level for i in range(len(wsRandom.KC))]"
   ]
  },
  {
   "cell_type": "markdown",
   "metadata": {},
   "source": [
    "##Working group\n",
    "A *Working group* is a group of working session. We use it in the Experiment class to group the students depending of their sequence manager."
   ]
  },
  {
   "cell_type": "code",
   "execution_count": null,
   "metadata": {
    "collapsed": false
   },
   "outputs": [],
   "source": []
  },
  {
   "cell_type": "markdown",
   "metadata": {
    "collapsed": false
   },
   "source": [
    "##Experiment\n",
    "The goal of the *Experiment* is to give a tool to follow and analys data from a  population of students using different sequences managers, for exemple to compare ***RiARiT*** and ***ZPDES***."
   ]
  },
  {
   "cell_type": "code",
   "execution_count": null,
   "metadata": {
    "collapsed": true
   },
   "outputs": [],
   "source": []
  }
 ],
 "metadata": {
  "kernelspec": {
   "display_name": "Python 2",
   "language": "python",
   "name": "python2"
  },
  "language_info": {
   "codemirror_mode": {
    "name": "ipython",
    "version": 2
   },
   "file_extension": ".py",
   "mimetype": "text/x-python",
   "name": "python",
   "nbconvert_exporter": "python",
   "pygments_lexer": "ipython2",
   "version": "2.7.6"
  }
 },
 "nbformat": 4,
 "nbformat_minor": 0
}
