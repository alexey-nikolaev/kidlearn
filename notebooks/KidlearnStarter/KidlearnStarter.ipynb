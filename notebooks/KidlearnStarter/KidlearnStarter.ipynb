{
 "cells": [
  {
   "cell_type": "markdown",
   "metadata": {},
   "source": [
    "# KidlearnStarter"
   ]
  },
  {
   "cell_type": "code",
   "execution_count": 1,
   "metadata": {
    "collapsed": false
   },
   "outputs": [],
   "source": [
    "import sys\n",
    "import os\n",
    "import numpy as np\n",
    "import time\n",
    "sys.path.append(\"../..\")\n",
    "%matplotlib inline"
   ]
  },
  {
   "cell_type": "markdown",
   "metadata": {},
   "source": [
    "# Presentation\n",
    "\n",
    "The Kidlearn library includes a set of algorithms designed to guide a pedagogical sequence of activities, these algorithms are implemented in the ***seq_manager*** module of the library  [(explained in another notebook)](../Sequence_manager_explanation/Seq_manager_explanation.ipynb). To define the different possible exercises, we use **\"R-Table\"** which are described in our articles. To test and use these algorithms, we defined student models, implemented in ***student*** module, which have some skills to learn through a didactic sequence managed by an algorithm. \n",
    "\n",
    "In this notebook, we will focus on the ***experimentation*** module, which permit to manage different level of simulation. The parameter files are located in the folder **paramas_files/**, and the using R-Tables in **RT/**. "
   ]
  },
  {
   "cell_type": "code",
   "execution_count": 2,
   "metadata": {
    "collapsed": false
   },
   "outputs": [],
   "source": [
    "import kidlearn_lib as k_lib\n",
    "import plot_graphics as graph"
   ]
  },
  {
   "cell_type": "markdown",
   "metadata": {},
   "source": [
    "# The experimentation objects\n",
    "\n",
    "We will introduce the different objects involved in ***experimentation*** module. In this notebook we will only use the \"$Q$\" student model and the \"*N1*\" R-Table.\n",
    "\n",
    "## Working session\n",
    "\n",
    "A *Working session* is defined by a student and a sequence manager. It will permit to manage the activity sequence for the student ***$s$*** with the algorithm **$A$**.\n",
    "\n",
    "#### Use of a simple example of a configuration\n",
    "\n",
    "We create a student based on the $Q$ model."
   ]
  },
  {
   "cell_type": "code",
   "execution_count": 3,
   "metadata": {
    "collapsed": false
   },
   "outputs": [],
   "source": [
    "s = k_lib.config.student(params_file=\"qstud\",directory=\"params_files\")"
   ]
  },
  {
   "cell_type": "markdown",
   "metadata": {},
   "source": [
    "We create a sequence manager, here it's ***RiARiT*** (you can also try ZPDES)."
   ]
  },
  {
   "cell_type": "code",
   "execution_count": 9,
   "metadata": {
    "collapsed": false
   },
   "outputs": [],
   "source": [
    "A = k_lib.config.seq_manager(params_file=\"RIARIT\",directory=\"params_files\")\n",
    "#A = k_lib.config.seq_manager(params_file=\"ZPDES\",directory=\"params_files\")"
   ]
  },
  {
   "cell_type": "markdown",
   "metadata": {},
   "source": [
    "We create a working session based on the student and the algorithm."
   ]
  },
  {
   "cell_type": "code",
   "execution_count": 10,
   "metadata": {
    "collapsed": false
   },
   "outputs": [],
   "source": [
    "workSession = k_lib.experimentation.WorkingSession(student=s,seq_manager=A)\n",
    "# same thing if we directly load worksession.json file\n",
    "# workSession2 = k_lib.experimentation.WorkingSession(params_file=\"worksession\",directory=\"params_files\")"
   ]
  },
  {
   "cell_type": "markdown",
   "metadata": {},
   "source": [
    "To run one step, you can use the \"*step_forward()*\" function. "
   ]
  },
  {
   "cell_type": "code",
   "execution_count": 11,
   "metadata": {
    "collapsed": false
   },
   "outputs": [],
   "source": [
    "workSession.step_forward()\n",
    "# def step_forward(self):\n",
    "    # ex = self.new_exercise() <- the algorithm choose the activity to do\n",
    "    # self.student_answer(ex) <- student answer to the activity\n",
    "    # self.save_actual_step() <- save the activity\n",
    "    # self.update_manager(ex) <- update to choose the next activity"
   ]
  },
  {
   "cell_type": "code",
   "execution_count": 12,
   "metadata": {
    "collapsed": false
   },
   "outputs": [
    {
     "data": {
      "text/plain": [
       "act : {'answer': 0, 'knowledges': array([ 0.3 ,  0.3 ,  0.14]), 'act': {u'N1': [2, 0, 1]}}, student skill: [ 0.05  0.1   0.  ]"
      ]
     },
     "execution_count": 12,
     "metadata": {},
     "output_type": "execute_result"
    }
   ],
   "source": [
    "workSession.actual_step() # what is the last exercise done"
   ]
  },
  {
   "cell_type": "markdown",
   "metadata": {},
   "source": [
    "***\"act\"*** presents the parameterization of the activity. *\"N1\"* is the name of the Table, and the vector \"N1 : [0,0,0] \" represent the values taken by the 3 didactic parameters. \n",
    "\n",
    "***\"student skill\"*** presents the level of the student ($ \\in [0;1]$) for each skill (here : *S0, S1, S2*).\n",
    "\n",
    "To run a sequence with $n$ activities we will use the *run($n$)* function. "
   ]
  },
  {
   "cell_type": "code",
   "execution_count": 13,
   "metadata": {
    "collapsed": false
   },
   "outputs": [],
   "source": [
    "workSession.run(100) # do 100 times step_forward()"
   ]
  },
  {
   "cell_type": "code",
   "execution_count": 14,
   "metadata": {
    "collapsed": false
   },
   "outputs": [
    {
     "data": {
      "text/plain": [
       "[act : None, student skill: [ 0.05  0.1   0.  ],\n",
       " act : {'answer': 0, 'knowledges': array([ 0.3 ,  0.3 ,  0.14]), 'act': {u'N1': [2, 0, 1]}}, student skill: [ 0.05  0.1   0.  ],\n",
       " act : {'answer': 0, 'knowledges': array([ 0.15,  0.15,  0.07]), 'act': {u'N1': [2, 0, 0]}}, student skill: [ 0.05  0.15  0.  ],\n",
       " act : {'answer': 1, 'knowledges': array([ 0.16,  0.1 ,  0.  ]), 'act': {u'N1': [0, 1, 1]}}, student skill: [ 0.05  0.15  0.  ],\n",
       " act : {'answer': 1, 'knowledges': array([ 0.06,  0.03,  0.  ]), 'act': {u'N1': [0, 0, 1]}}, student skill: [ 0.06  0.15  0.  ],\n",
       " act : {'answer': 1, 'knowledges': array([ 0.16,  0.1 ,  0.  ]), 'act': {u'N1': [0, 1, 1]}}, student skill: [ 0.06  0.15  0.  ],\n",
       " act : {'answer': 1, 'knowledges': array([ 0.03 ,  0.015,  0.   ]), 'act': {u'N1': [0, 0, 0]}}, student skill: [ 0.06  0.15  0.  ],\n",
       " act : {'answer': 0, 'knowledges': array([ 0.48,  0.4 ,  0.3 ]), 'act': {u'N1': [1, 1, 1]}}, student skill: [ 0.06  0.15  0.  ],\n",
       " act : {'answer': 0, 'knowledges': array([ 0.48,  0.4 ,  0.3 ]), 'act': {u'N1': [1, 1, 1]}}, student skill: [ 0.06  0.15  0.  ],\n",
       " act : {'answer': 0, 'knowledges': array([ 0.16,  0.1 ,  0.  ]), 'act': {u'N1': [0, 1, 1]}}, student skill: [ 0.06  0.15  0.  ]]"
      ]
     },
     "execution_count": 14,
     "metadata": {},
     "output_type": "execute_result"
    }
   ],
   "source": [
    "workSession.step[0:10] # shows the first 10 steps"
   ]
  },
  {
   "cell_type": "markdown",
   "metadata": {},
   "source": [
    "##### Use of 3 sequence managers (RiARiT, ZPDES, Random)"
   ]
  },
  {
   "cell_type": "code",
   "execution_count": 15,
   "metadata": {
    "collapsed": false
   },
   "outputs": [
    {
     "ename": "KeyError",
     "evalue": "'algo_name'",
     "output_type": "error",
     "traceback": [
      "\u001b[1;31m---------------------------------------------------------------------------\u001b[0m",
      "\u001b[1;31mKeyError\u001b[0m                                  Traceback (most recent call last)",
      "\u001b[1;32m<ipython-input-15-b9dbab40562a>\u001b[0m in \u001b[0;36m<module>\u001b[1;34m()\u001b[0m\n\u001b[1;32m----> 1\u001b[1;33m \u001b[0mwsRiarit\u001b[0m \u001b[1;33m=\u001b[0m \u001b[0mk_lib\u001b[0m\u001b[1;33m.\u001b[0m\u001b[0mexperimentation\u001b[0m\u001b[1;33m.\u001b[0m\u001b[0mWorkingSession\u001b[0m\u001b[1;33m(\u001b[0m\u001b[0mparams_file\u001b[0m\u001b[1;33m=\u001b[0m\u001b[1;34m\"ws_expe_RiARiT\"\u001b[0m\u001b[1;33m)\u001b[0m\u001b[1;33m\u001b[0m\u001b[0m\n\u001b[0m\u001b[0;32m      2\u001b[0m \u001b[0mwsZpdes\u001b[0m \u001b[1;33m=\u001b[0m \u001b[0mk_lib\u001b[0m\u001b[1;33m.\u001b[0m\u001b[0mexperimentation\u001b[0m\u001b[1;33m.\u001b[0m\u001b[0mWorkingSession\u001b[0m\u001b[1;33m(\u001b[0m\u001b[0mparams_file\u001b[0m\u001b[1;33m=\u001b[0m\u001b[1;34m\"ws_expe_ZPDES\"\u001b[0m\u001b[1;33m)\u001b[0m\u001b[1;33m\u001b[0m\u001b[0m\n\u001b[0;32m      3\u001b[0m \u001b[0mwsSequence\u001b[0m \u001b[1;33m=\u001b[0m \u001b[0mk_lib\u001b[0m\u001b[1;33m.\u001b[0m\u001b[0mexperimentation\u001b[0m\u001b[1;33m.\u001b[0m\u001b[0mWorkingSession\u001b[0m\u001b[1;33m(\u001b[0m\u001b[0mparams_file\u001b[0m\u001b[1;33m=\u001b[0m\u001b[1;34m\"ws_expe_Sequence\"\u001b[0m\u001b[1;33m)\u001b[0m\u001b[1;33m\u001b[0m\u001b[0m\n",
      "\u001b[1;32m/home/bclement/Dropbox/INRIA/kidlearn4.0/kidlearn/kidlearn_lib/experimentation/experimentation.pyc\u001b[0m in \u001b[0;36m__init__\u001b[1;34m(self, params, params_file, directory, student, seq_manager, *args, **kwargs)\u001b[0m\n\u001b[0;32m    104\u001b[0m \u001b[1;33m\u001b[0m\u001b[0m\n\u001b[0;32m    105\u001b[0m         \u001b[0mself\u001b[0m\u001b[1;33m.\u001b[0m\u001b[0m_student\u001b[0m \u001b[1;33m=\u001b[0m \u001b[0mstudent\u001b[0m \u001b[1;32mor\u001b[0m \u001b[0mconfig\u001b[0m\u001b[1;33m.\u001b[0m\u001b[0mstudent\u001b[0m\u001b[1;33m(\u001b[0m\u001b[0mself\u001b[0m\u001b[1;33m.\u001b[0m\u001b[0mparams\u001b[0m\u001b[1;33m[\u001b[0m\u001b[1;34m\"student\"\u001b[0m\u001b[1;33m]\u001b[0m\u001b[1;33m)\u001b[0m\u001b[1;33m\u001b[0m\u001b[0m\n\u001b[1;32m--> 106\u001b[1;33m         \u001b[0mself\u001b[0m\u001b[1;33m.\u001b[0m\u001b[0m_seq_manager\u001b[0m \u001b[1;33m=\u001b[0m \u001b[0mseq_manager\u001b[0m \u001b[1;32mor\u001b[0m \u001b[0mconfig\u001b[0m\u001b[1;33m.\u001b[0m\u001b[0mseq_manager\u001b[0m\u001b[1;33m(\u001b[0m\u001b[0mself\u001b[0m\u001b[1;33m.\u001b[0m\u001b[0mparams\u001b[0m\u001b[1;33m[\u001b[0m\u001b[1;34m\"seq_manager\"\u001b[0m\u001b[1;33m]\u001b[0m\u001b[1;33m)\u001b[0m\u001b[1;33m\u001b[0m\u001b[0m\n\u001b[0m\u001b[0;32m    107\u001b[0m \u001b[1;33m\u001b[0m\u001b[0m\n\u001b[0;32m    108\u001b[0m         \u001b[0mself\u001b[0m\u001b[1;33m.\u001b[0m\u001b[0m_KC\u001b[0m \u001b[1;33m=\u001b[0m \u001b[0mself\u001b[0m\u001b[1;33m.\u001b[0m\u001b[0m_student\u001b[0m\u001b[1;33m.\u001b[0m\u001b[0mKC_names\u001b[0m\u001b[1;33m\u001b[0m\u001b[0m\n",
      "\u001b[1;32m/home/bclement/Dropbox/INRIA/kidlearn4.0/kidlearn/kidlearn_lib/config/config.pyc\u001b[0m in \u001b[0;36mseq_manager\u001b[1;34m(seq_params, params_file, directory)\u001b[0m\n\u001b[0;32m    133\u001b[0m     \u001b[1;32mif\u001b[0m \u001b[0mparams_file\u001b[0m \u001b[1;33m!=\u001b[0m \u001b[0mNone\u001b[0m \u001b[1;33m:\u001b[0m\u001b[1;33m\u001b[0m\u001b[0m\n\u001b[0;32m    134\u001b[0m         \u001b[0mseq_params\u001b[0m \u001b[1;33m=\u001b[0m \u001b[0mfunc\u001b[0m\u001b[1;33m.\u001b[0m\u001b[0mload_json\u001b[0m\u001b[1;33m(\u001b[0m\u001b[0mparams_file\u001b[0m\u001b[1;33m,\u001b[0m\u001b[0mdirectory\u001b[0m\u001b[1;33m)\u001b[0m\u001b[1;33m\u001b[0m\u001b[0m\n\u001b[1;32m--> 135\u001b[1;33m     \u001b[0mseq_manager_name\u001b[0m \u001b[1;33m=\u001b[0m \u001b[0mseq_params\u001b[0m\u001b[1;33m[\u001b[0m\u001b[1;34m\"algo_name\"\u001b[0m\u001b[1;33m]\u001b[0m\u001b[1;33m\u001b[0m\u001b[0m\n\u001b[0m\u001b[0;32m    136\u001b[0m \u001b[1;33m\u001b[0m\u001b[0m\n\u001b[0;32m    137\u001b[0m     \u001b[1;32mreturn\u001b[0m \u001b[0mseq_dict_gen\u001b[0m\u001b[1;33m[\u001b[0m\u001b[0mseq_manager_name\u001b[0m\u001b[1;33m]\u001b[0m\u001b[1;33m(\u001b[0m\u001b[0mseq_params\u001b[0m\u001b[1;33m)\u001b[0m\u001b[1;33m\u001b[0m\u001b[0m\n",
      "\u001b[1;31mKeyError\u001b[0m: 'algo_name'"
     ]
    }
   ],
   "source": [
    "wsRiarit = k_lib.experimentation.WorkingSession(params_file=\"ws_expe_RiARiT\")\n",
    "wsZpdes = k_lib.experimentation.WorkingSession(params_file=\"ws_expe_ZPDES\")\n",
    "wsSequence = k_lib.experimentation.WorkingSession(params_file=\"ws_expe_Sequence\")"
   ]
  },
  {
   "cell_type": "code",
   "execution_count": null,
   "metadata": {
    "collapsed": false
   },
   "outputs": [],
   "source": [
    "wsRiarit.run(100)\n",
    "wsZpdes.run(100)\n",
    "wsSequence.run(100)"
   ]
  },
  {
   "cell_type": "code",
   "execution_count": null,
   "metadata": {
    "collapsed": false,
    "scrolled": false
   },
   "outputs": [],
   "source": [
    "print \"Riarit %s \" % [wsRiarit.step[-1].student[\"knowledges\"][i] for i in range(len(wsRiarit.KC))]\n",
    "print \"ZPDES : %s\" % [wsZpdes.step[-1].student[\"knowledges\"][i] for i in range(len(wsZpdes.KC))]\n",
    "print \"Sequence : %s\"  % [wsSequence.step[-1].student[\"knowledges\"][i] for i in range(len(wsSequence.KC))]"
   ]
  },
  {
   "cell_type": "markdown",
   "metadata": {
    "collapsed": false
   },
   "source": [
    "## Experiment\n",
    "The goal of the *Experiment* object is to give a tool to follow and analyze data from a  population of students using different sequences managers, for example to compare ***RiARiT***, ***ZPDES*** with a predefined sequence. "
   ]
  },
  {
   "cell_type": "code",
   "execution_count": null,
   "metadata": {
    "collapsed": false,
    "scrolled": true
   },
   "outputs": [],
   "source": [
    "xp = k_lib.experimentation.Experiment(params_file=\"experiment_expe\")"
   ]
  },
  {
   "cell_type": "code",
   "execution_count": null,
   "metadata": {
    "collapsed": false,
    "scrolled": false
   },
   "outputs": [
    {
     "name": "stdout",
     "output_type": "stream",
     "text": [
      "Sequence\n",
      "ZpdesHssbg"
     ]
    }
   ],
   "source": [
    "xp.run(200)"
   ]
  },
  {
   "cell_type": "code",
   "execution_count": null,
   "metadata": {
    "collapsed": false,
    "scrolled": false
   },
   "outputs": [],
   "source": [
    "for seq_name,group in xp._groups.items():\n",
    "\n",
    "        data = group[0].get_ex_repartition_time(first_ex= 1,nb_ex=201)\n",
    "        show = 1 # graphs are saved in \"path\", replace show = 0 to not see the graph, \n",
    "        graph.kGraph.plot_cluster_lvl_sub([data],nb_stud=100,nb_ex=200, title = \"%s \\nStudent distribution per erxercices type over time\" % (seq_name),path = \"experiments/graphics/\", ref = \"clust_xseq_global_%s\" % (seq_name),legend = [\"M1\",\"M2\",\"M3\",\"M4\",\"M5\",\"M6\",\"R1\",\"R2\",\"R3\",\"R4\",\"MM1\",\"MM2\",\"MM3\",\"MM4\",\"RM1\",\"RM2\",\"RM3\",\"RM4\"],dataToUse = range(len([data])), show=show)\n"
   ]
  },
  {
   "cell_type": "code",
   "execution_count": null,
   "metadata": {
    "collapsed": false,
    "scrolled": false
   },
   "outputs": [],
   "source": [
    "skill_labels = [\"KM\",\"ISum\",\"Isub\",\"ID\",\"DSum\",\"DSub\",\"DD\",\"All\"]\n",
    "\n",
    "for k in range(len(skill_labels)):\n",
    "    mean_data = []\n",
    "    std_data = []\n",
    "    for seq_name,group in xp._groups.items():\n",
    "\n",
    "            data = [group[0].get_students_level(time = x, kc = k) for x in range(200)]\n",
    "            mean_data.append([np.mean(data[x]) for x in range(len(data))])\n",
    "            std_data.append([np.std(data[x]) for x in range(len(data))])\n",
    "\n",
    "    graph.kGraph.draw_curve([mean_data], labels = [xp._groups.keys()], nb_ex = len(data), typeData = \"skill_level\", type_data_spe = skill_labels[k] ,ref = skill_labels[k], markers = None, colors = [[\"#00BBBB\",\"green\",\"black\",'#FF0000']], line_type = ['dashed','dashdot',\"dotted\",'solid'], legend_position = 3, std_data = [std_data])\n",
    "\n",
    "    "
   ]
  },
  {
   "cell_type": "code",
   "execution_count": null,
   "metadata": {
    "collapsed": true
   },
   "outputs": [],
   "source": []
  }
 ],
 "metadata": {
  "kernelspec": {
   "display_name": "Python 2",
   "language": "python",
   "name": "python2"
  },
  "language_info": {
   "codemirror_mode": {
    "name": "ipython",
    "version": 2
   },
   "file_extension": ".py",
   "mimetype": "text/x-python",
   "name": "python",
   "nbconvert_exporter": "python",
   "pygments_lexer": "ipython2",
   "version": "2.7.6"
  }
 },
 "nbformat": 4,
 "nbformat_minor": 0
}
