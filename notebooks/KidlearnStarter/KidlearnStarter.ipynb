{
 "cells": [
  {
   "cell_type": "markdown",
   "metadata": {},
   "source": [
    "#KidlearnStarter"
   ]
  },
  {
   "cell_type": "code",
   "execution_count": 1,
   "metadata": {
    "collapsed": false
   },
   "outputs": [],
   "source": [
    "import sys\n",
    "import os\n",
    "sys.path.append(\"../..\")\n",
    "sys.path.append(\"../../kidlearn_lib/\")"
   ]
  },
  {
   "cell_type": "markdown",
   "metadata": {},
   "source": [
    "#Presentation\n",
    "\n",
    "The Kidlearn library includes a set of algorithms designed to guide a pedagogical sequence of activities, these algorithms are implemented in the ***seq_manager*** module of the library  [(explained in another notebook)](../Sequence_manager_explanation/Seq_manager_explanation.ipynb). To define the different possible exercises, we use **\"R-Table\"** which are described in our articles. To test and use these algorithms, we defined student models, implemented in ***student*** module, which have some skills to learn through a didactic sequence managed by an algorithm. \n",
    "\n",
    "In this notebook, we will focus on the ***experimentation*** module, which permit to manage different level of simulation. The parameter files are located in the folder **paramas_files/**, and the using R-Tables in **RT/**. "
   ]
  },
  {
   "cell_type": "code",
   "execution_count": 2,
   "metadata": {
    "collapsed": false
   },
   "outputs": [],
   "source": [
    "import kidlearn_lib as k_lib"
   ]
  },
  {
   "cell_type": "markdown",
   "metadata": {},
   "source": [
    "#The experimentation objects\n",
    "\n",
    "We will introduce the different objects involved in ***experimentation*** module. In this notebook we will only use the \"$Q$\" student model and the \"*N1*\" R-Table.\n",
    "\n",
    "##Working session\n",
    "\n",
    "A *Working session* is defined by a student and a sequence manager. It will permit to manage the activity sequence for the student ***$s$*** with the algorithm **$A$**.\n",
    "\n",
    "#### Use of a simple example of a configuration\n",
    "\n",
    "We create a student based on the $Q$ model."
   ]
  },
  {
   "cell_type": "code",
   "execution_count": 3,
   "metadata": {
    "collapsed": false
   },
   "outputs": [],
   "source": [
    "s = k_lib.config.student(params_file=\"qstud\",directory=\"params_files\")"
   ]
  },
  {
   "cell_type": "markdown",
   "metadata": {},
   "source": [
    "We create a sequence manager, here it's ***RiARiT*** (you can also try ZPDES)."
   ]
  },
  {
   "cell_type": "code",
   "execution_count": 4,
   "metadata": {
    "collapsed": false
   },
   "outputs": [],
   "source": [
    "A = k_lib.config.seq_manager(params_file=\"RIARIT\",directory=\"params_files\")\n",
    "#A = k_lib.config.seq_manager(params_file=\"ZPDES\",directory=\"params_files\")"
   ]
  },
  {
   "cell_type": "markdown",
   "metadata": {},
   "source": [
    "We create a working session based on the student and the algorithm."
   ]
  },
  {
   "cell_type": "code",
   "execution_count": 5,
   "metadata": {
    "collapsed": false
   },
   "outputs": [],
   "source": [
    "workSession = k_lib.experimentation.WorkingSession(student=s,seq_manager=A)\n",
    "# same thing if we directly load worksession.json file\n",
    "# workSession2 = k_lib.experimentation.WorkingSession(params_file=\"worksession\",directory=\"params_files\")"
   ]
  },
  {
   "cell_type": "markdown",
   "metadata": {},
   "source": [
    "To run one step, you can use the \"*step_forward()*\" function. "
   ]
  },
  {
   "cell_type": "code",
   "execution_count": 6,
   "metadata": {
    "collapsed": false
   },
   "outputs": [],
   "source": [
    "workSession.step_forward()\n",
    "# def step_forward(self):\n",
    "    # ex = self.new_exercise() <- the algorithm choose the activity to do\n",
    "    # self.student_answer(ex) <- student answer to the activity\n",
    "    # self.save_actual_step() <- save the activity\n",
    "    # self.update_manager(ex) <- update to choose the next activity"
   ]
  },
  {
   "cell_type": "code",
   "execution_count": 7,
   "metadata": {
    "collapsed": false
   },
   "outputs": [
    {
     "data": {
      "text/plain": [
       "act : {u'N1': [2, 0, 0], 'ans': 1}, student skill: [S0 : 0.05, S1 : 0.1, S2 : 0.07]"
      ]
     },
     "execution_count": 7,
     "metadata": {},
     "output_type": "execute_result"
    }
   ],
   "source": [
    "workSession.actual_step() # what is the last exercise done"
   ]
  },
  {
   "cell_type": "markdown",
   "metadata": {},
   "source": [
    "***\"act\"*** presents the parameterization of the activity. *\"N1\"* is the name of the Table, and the vector \"N1 : [0,0,0] \" represent the values taken by the 3 didactic parameters. \n",
    "\n",
    "***\"student skill\"*** presents the level of the student ($ \\in [0;1]$) for each skill (here : *S0, S1, S2*).\n",
    "\n",
    "To run a sequence with $n$ activities we will use the *run($n$)* function. "
   ]
  },
  {
   "cell_type": "code",
   "execution_count": 8,
   "metadata": {
    "collapsed": false
   },
   "outputs": [],
   "source": [
    "workSession.run(100) # do 100 times step_forward()"
   ]
  },
  {
   "cell_type": "code",
   "execution_count": 9,
   "metadata": {
    "collapsed": false
   },
   "outputs": [
    {
     "data": {
      "text/plain": [
       "[act : {u'N1': [2, 0, 0], 'ans': 1}, student skill: [S0 : 0.05, S1 : 0.1, S2 : 0.07],\n",
       " act : {u'N1': [2, 0, 0], 'ans': 1}, student skill: [S0 : 0.05, S1 : 0.1, S2 : 0.07],\n",
       " act : {u'N1': [2, 0, 1], 'ans': 0}, student skill: [S0 : 0.05, S1 : 0.3, S2 : 0.07],\n",
       " act : {u'N1': [2, 1, 0], 'ans': 1}, student skill: [S0 : 0.05, S1 : 0.5, S2 : 0.07],\n",
       " act : {u'N1': [0, 1, 0], 'ans': 1}, student skill: [S0 : 0.08, S1 : 0.5, S2 : 0.07],\n",
       " act : {u'N1': [0, 1, 0], 'ans': 1}, student skill: [S0 : 0.08, S1 : 0.5, S2 : 0.07],\n",
       " act : {u'N1': [2, 1, 1], 'ans': 0}, student skill: [S0 : 0.08, S1 : 0.5, S2 : 0.07],\n",
       " act : {u'N1': [2, 1, 0], 'ans': 0}, student skill: [S0 : 0.08, S1 : 0.5, S2 : 0.35],\n",
       " act : {u'N1': [1, 0, 0], 'ans': 1}, student skill: [S0 : 0.09, S1 : 0.5, S2 : 0.35],\n",
       " act : {u'N1': [1, 0, 1], 'ans': 1}, student skill: [S0 : 0.09, S1 : 0.5, S2 : 0.35]]"
      ]
     },
     "execution_count": 9,
     "metadata": {},
     "output_type": "execute_result"
    }
   ],
   "source": [
    "workSession.step[0:10] # shows the first 10 steps"
   ]
  },
  {
   "cell_type": "markdown",
   "metadata": {},
   "source": [
    "##### Use of 3 sequence managers (RiARiT, ZPDES, Random)"
   ]
  },
  {
   "cell_type": "code",
   "execution_count": 10,
   "metadata": {
    "collapsed": false
   },
   "outputs": [],
   "source": [
    "wsRiarit = k_lib.experimentation.WorkingSession(params_file=\"ws_expe_RiARiT\")\n",
    "wsZpdes = k_lib.experimentation.WorkingSession(params_file=\"ws_expe_ZPDES\")\n",
    "wsRandom = k_lib.experimentation.WorkingSession(params_file=\"ws_expe_Random\")"
   ]
  },
  {
   "cell_type": "code",
   "execution_count": 11,
   "metadata": {
    "collapsed": false
   },
   "outputs": [],
   "source": [
    "wsRiarit.run(100)\n",
    "wsZpdes.run(100)\n",
    "wsRandom.run(100)"
   ]
  },
  {
   "cell_type": "code",
   "execution_count": 12,
   "metadata": {
    "collapsed": false
   },
   "outputs": [
    {
     "name": "stdout",
     "output_type": "stream",
     "text": [
      "Skill level after 100 steps :\n",
      "Riarit [0.9, 0.4, 0.32000000000000006, 0.36, 0.2, 0.12, 0.21] \n",
      "ZPDES : [1.0, 0.5, 0.32000000000000006, 0.42, 0, 0.2, 0.48999999999999994]\n",
      "Random : [0.3, 0.7, 0.4, 0.1, 0, 0.35, 0]\n"
     ]
    }
   ],
   "source": [
    "print \"Skill level after 100 steps :\"\n",
    "print \"Riarit %s \" % [wsRiarit.step[-1].student[\"knowledges\"][i].level for i in range(len(wsRiarit.KC))]\n",
    "print \"ZPDES : %s\" % [wsZpdes.step[-1].student[\"knowledges\"][i].level for i in range(len(wsZpdes.KC))]\n",
    "print \"Random : %s\"  % [wsRandom.step[-1].student[\"knowledges\"][i].level for i in range(len(wsRandom.KC))]"
   ]
  },
  {
   "cell_type": "markdown",
   "metadata": {},
   "source": [
    "##Working group\n",
    "A *Working group* is a group of working session. We use it in the Experiment class to group the students depending of their sequence manager. This class only exist to be used in experiments to group student and make easiest data analysis."
   ]
  },
  {
   "cell_type": "markdown",
   "metadata": {
    "collapsed": false
   },
   "source": [
    "##Experiment\n",
    "The goal of the *Experiment* object is to give a tool to follow and analyze data from a  population of students using different sequences managers, for example to compare ***RiARiT***, ***ZPDES*** with a random or predefined sequence. "
   ]
  },
  {
   "cell_type": "code",
   "execution_count": 13,
   "metadata": {
    "collapsed": false
   },
   "outputs": [],
   "source": [
    "xp = k_lib.experimentation.Experiment(params_file=\"experiment_expe\")"
   ]
  },
  {
   "cell_type": "code",
   "execution_count": null,
   "metadata": {
    "collapsed": false
   },
   "outputs": [
    {
     "name": "stdout",
     "output_type": "stream",
     "text": [
      "Sequence\n",
      "ZpdesHssbg\n",
      "RandomSequence\n",
      "RiaritHssbg\n"
     ]
    }
   ],
   "source": [
    "xp.run()"
   ]
  },
  {
   "cell_type": "code",
   "execution_count": null,
   "metadata": {
    "collapsed": false
   },
   "outputs": [],
   "source": [
    "import graph_lib as graph\n",
    "\n",
    "for seq_name,group in xp._groups.items():\n",
    "\n",
    "        data = group[0].get_ex_repartition_time(100)\n",
    "        graph.kGraph.plot_cluster_lvl_sub([data],100,100, title = \"%s \\nStudent distribution per erxercices type over time\" % (\"test\"),path = \"experiments/graphics/\", ref = \"clust_xseq_global_%s\" % (seq_name),legend = [\"M1\",\"M2\",\"M3\",\"M4\",\"M5\",\"M6\",\"R1\",\"R2\",\"R3\",\"R4\",\"MM1\",\"MM2\",\"MM3\",\"MM4\",\"RM1\",\"RM2\",\"RM3\",\"RM4\"],dataToUse = range(len([data])))\n"
   ]
  },
  {
   "cell_type": "code",
   "execution_count": null,
   "metadata": {
    "collapsed": false
   },
   "outputs": [],
   "source": []
  },
  {
   "cell_type": "code",
   "execution_count": null,
   "metadata": {
    "collapsed": true
   },
   "outputs": [],
   "source": []
  },
  {
   "cell_type": "code",
   "execution_count": null,
   "metadata": {
    "collapsed": true
   },
   "outputs": [],
   "source": []
  }
 ],
 "metadata": {
  "kernelspec": {
   "display_name": "Python 2",
   "language": "python",
   "name": "python2"
  },
  "language_info": {
   "codemirror_mode": {
    "name": "ipython",
    "version": 2
   },
   "file_extension": ".py",
   "mimetype": "text/x-python",
   "name": "python",
   "nbconvert_exporter": "python",
   "pygments_lexer": "ipython2",
   "version": "2.7.6"
  }
 },
 "nbformat": 4,
 "nbformat_minor": 0
}
